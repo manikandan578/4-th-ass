{
 "cells": [
  {
   "cell_type": "code",
   "execution_count": 32,
   "id": "0d97f62e",
   "metadata": {},
   "outputs": [],
   "source": [
    "\n",
    "import numpy as np"
   ]
  },
  {
   "cell_type": "code",
   "execution_count": 33,
   "id": "2417ba6f",
   "metadata": {},
   "outputs": [],
   "source": [
    "\n",
    "np.random.seed(52)  \n",
    "heights = np.random.normal(loc=75, scale=13, size=40)"
   ]
  },
  {
   "cell_type": "code",
   "execution_count": 34,
   "id": "f4d1e193",
   "metadata": {},
   "outputs": [
    {
     "name": "stdout",
     "output_type": "stream",
     "text": [
      "Sample Mean (Point Estimate): 76.47938696596096\n"
     ]
    }
   ],
   "source": [
    "\n",
    "sample_mean = np.mean(heights)\n",
    "print(\"Sample Mean (Point Estimate):\", sample_mean)"
   ]
  },
  {
   "cell_type": "code",
   "execution_count": 35,
   "id": "2e458694",
   "metadata": {},
   "outputs": [],
   "source": [
    "import numpy as np\n",
    "import scipy.stats as stats"
   ]
  },
  {
   "cell_type": "code",
   "execution_count": 36,
   "id": "d0e69fa7",
   "metadata": {},
   "outputs": [],
   "source": [
    "\n",
    "np.random.seed(52) \n",
    "heights = np.random.normal(loc=75, scale=13, size=40)"
   ]
  },
  {
   "cell_type": "code",
   "execution_count": 37,
   "id": "7d1bc3c4",
   "metadata": {},
   "outputs": [],
   "source": [
    "\n",
    "sample_mean = np.mean(heights)\n",
    "sample_std = np.std(heights, ddof=1) "
   ]
  },
  {
   "cell_type": "code",
   "execution_count": 38,
   "id": "3c859e00",
   "metadata": {},
   "outputs": [],
   "source": [
    "confidence_level = 0.97"
   ]
  },
  {
   "cell_type": "code",
   "execution_count": 39,
   "id": "16e565da",
   "metadata": {},
   "outputs": [],
   "source": [
    "margin_of_error = stats.t.ppf((1 + confidence_level) / 2, len(heights) - 1) * (sample_std / np.sqrt(len(heights)))"
   ]
  },
  {
   "cell_type": "code",
   "execution_count": 40,
   "id": "5ed686f1",
   "metadata": {},
   "outputs": [],
   "source": [
    "lower_bound = sample_mean - margin_of_error\n",
    "upper_bound = sample_mean + margin_of_error"
   ]
  },
  {
   "cell_type": "code",
   "execution_count": 41,
   "id": "2b4027a7",
   "metadata": {},
   "outputs": [
    {
     "name": "stdout",
     "output_type": "stream",
     "text": [
      "Confidence Interval (97.0%): [72.41955484528535, 80.53921908663656]\n"
     ]
    }
   ],
   "source": [
    "print(f\"Confidence Interval ({confidence_level*100}%): [{lower_bound}, {upper_bound}]\")"
   ]
  },
  {
   "cell_type": "code",
   "execution_count": 42,
   "id": "68b52864",
   "metadata": {},
   "outputs": [],
   "source": [
    "import numpy as np\n",
    "from scipy import stats"
   ]
  },
  {
   "cell_type": "code",
   "execution_count": 43,
   "id": "0b965082",
   "metadata": {},
   "outputs": [],
   "source": [
    "np.random.seed(52)  \n",
    "group1_scores = np.random.normal(loc=80, scale=5, size=40)\n",
    "group2_scores = np.random.normal(loc=85, scale=5, size=40)"
   ]
  },
  {
   "cell_type": "code",
   "execution_count": 44,
   "id": "29dcc20e",
   "metadata": {},
   "outputs": [],
   "source": [
    "t_statistic, p_value = stats.ttest_ind(group1_scores, group2_scores)"
   ]
  },
  {
   "cell_type": "code",
   "execution_count": 45,
   "id": "598c0728",
   "metadata": {},
   "outputs": [],
   "source": [
    "\n",
    "alpha = 0.05"
   ]
  },
  {
   "cell_type": "code",
   "execution_count": 46,
   "id": "e19d3195",
   "metadata": {},
   "outputs": [
    {
     "name": "stdout",
     "output_type": "stream",
     "text": [
      "T-test Results:\n",
      "T-statistic: -5.388886002230819\n",
      "P-value: 7.304747443948321e-07\n"
     ]
    }
   ],
   "source": [
    "print(\"T-test Results:\")\n",
    "print(\"T-statistic:\", t_statistic)\n",
    "print(\"P-value:\", p_value)"
   ]
  },
  {
   "cell_type": "code",
   "execution_count": 47,
   "id": "51c0fc2b",
   "metadata": {},
   "outputs": [
    {
     "name": "stdout",
     "output_type": "stream",
     "text": [
      "Reject the null hypothesis. There is a significant difference between the means of the two groups.\n"
     ]
    }
   ],
   "source": [
    "if p_value < alpha:\n",
    "    print(\"Reject the null hypothesis. There is a significant difference between the means of the two groups.\")\n",
    "else:\n",
    "    print(\"Fail to reject the null hypothesis. There is no significant difference between the means of the two groups.\")"
   ]
  },
  {
   "cell_type": "code",
   "execution_count": 48,
   "id": "3fe3398c",
   "metadata": {},
   "outputs": [],
   "source": [
    "import numpy as np\n",
    "from scipy import stats"
   ]
  },
  {
   "cell_type": "code",
   "execution_count": 49,
   "id": "cf489260",
   "metadata": {},
   "outputs": [],
   "source": [
    "group1 = np.array([20, 22, 25, 28, 30, 32, 34, 35, 38, 40,42,45])\n",
    "group2 = np.array([18, 21, 24, 27, 29, 31, 33, 36, 37, 39,41,43])"
   ]
  },
  {
   "cell_type": "code",
   "execution_count": 50,
   "id": "1897c3cf",
   "metadata": {},
   "outputs": [],
   "source": [
    "t_statistic_2tail, p_value_2tail = stats.ttest_ind(group1, group2)"
   ]
  },
  {
   "cell_type": "code",
   "execution_count": 51,
   "id": "bf2341f8",
   "metadata": {},
   "outputs": [],
   "source": [
    "t_statistic_1tail_right, p_value_1tail_right = stats.ttest_ind(group1, group2, alternative='greater')"
   ]
  },
  {
   "cell_type": "code",
   "execution_count": 52,
   "id": "3b341695",
   "metadata": {},
   "outputs": [],
   "source": [
    "t_statistic_1tail_left, p_value_1tail_left = stats.ttest_ind(group1, group2, alternative='less')"
   ]
  },
  {
   "cell_type": "code",
   "execution_count": 53,
   "id": "3a19df44",
   "metadata": {},
   "outputs": [
    {
     "name": "stdout",
     "output_type": "stream",
     "text": [
      "Two-tailed Test:\n",
      "T-statistic: 0.30729767136953867\n",
      "P-value: 0.7615068775544185\n"
     ]
    }
   ],
   "source": [
    "print(\"Two-tailed Test:\")\n",
    "print(\"T-statistic:\", t_statistic_2tail)\n",
    "print(\"P-value:\", p_value_2tail)"
   ]
  },
  {
   "cell_type": "code",
   "execution_count": 54,
   "id": "a387aecf",
   "metadata": {},
   "outputs": [
    {
     "name": "stdout",
     "output_type": "stream",
     "text": [
      "\n",
      "One-tailed Test (Right-tailed):\n",
      "T-statistic: 0.30729767136953867\n",
      "P-value: 0.38075343877720924\n"
     ]
    }
   ],
   "source": [
    "print(\"\\nOne-tailed Test (Right-tailed):\")\n",
    "print(\"T-statistic:\", t_statistic_1tail_right)\n",
    "print(\"P-value:\", p_value_1tail_right)\n"
   ]
  },
  {
   "cell_type": "code",
   "execution_count": 55,
   "id": "54b76e79",
   "metadata": {},
   "outputs": [
    {
     "name": "stdout",
     "output_type": "stream",
     "text": [
      "\n",
      "One-tailed Test (Left-tailed):\n",
      "T-statistic: 0.30729767136953867\n",
      "P-value: 0.6192465612227908\n"
     ]
    }
   ],
   "source": [
    "print(\"\\nOne-tailed Test (Left-tailed):\")\n",
    "print(\"T-statistic:\", t_statistic_1tail_left)\n",
    "print(\"P-value:\", p_value_1tail_left)\n"
   ]
  },
  {
   "cell_type": "code",
   "execution_count": null,
   "id": "5b5747a2",
   "metadata": {},
   "outputs": [],
   "source": []
  },
  {
   "cell_type": "code",
   "execution_count": null,
   "id": "fe2c6923",
   "metadata": {},
   "outputs": [],
   "source": []
  }
 ],
 "metadata": {
  "kernelspec": {
   "display_name": "Python 3 (ipykernel)",
   "language": "python",
   "name": "python3"
  },
  "language_info": {
   "codemirror_mode": {
    "name": "ipython",
    "version": 3
   },
   "file_extension": ".py",
   "mimetype": "text/x-python",
   "name": "python",
   "nbconvert_exporter": "python",
   "pygments_lexer": "ipython3",
   "version": "3.9.13"
  }
 },
 "nbformat": 4,
 "nbformat_minor": 5
}
