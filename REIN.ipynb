{
  "nbformat": 4,
  "nbformat_minor": 0,
  "metadata": {
    "colab": {
      "provenance": [],
      "authorship_tag": "ABX9TyOXaKaqLlN1JRx5vjB/KsFV",
      "include_colab_link": true
    },
    "kernelspec": {
      "name": "python3",
      "display_name": "Python 3"
    },
    "language_info": {
      "name": "python"
    }
  },
  "cells": [
    {
      "cell_type": "markdown",
      "metadata": {
        "id": "view-in-github",
        "colab_type": "text"
      },
      "source": [
        "<a href=\"https://colab.research.google.com/github/manikandan578/4-th-ass/blob/main/REIN.ipynb\" target=\"_parent\"><img src=\"https://colab.research.google.com/assets/colab-badge.svg\" alt=\"Open In Colab\"/></a>"
      ]
    },
    {
      "cell_type": "code",
      "execution_count": null,
      "metadata": {
        "id": "Tgn3d02xPjUL"
      },
      "outputs": [],
      "source": []
    },
    {
      "cell_type": "code",
      "source": [
        "pip install gym"
      ],
      "metadata": {
        "colab": {
          "base_uri": "https://localhost:8080/"
        },
        "id": "sbqrYPLXP61N",
        "outputId": "ef80c268-c075-4df3-8365-bb2e16249684"
      },
      "execution_count": 1,
      "outputs": [
        {
          "output_type": "stream",
          "name": "stdout",
          "text": [
            "Requirement already satisfied: gym in /usr/local/lib/python3.10/dist-packages (0.25.2)\n",
            "Requirement already satisfied: numpy>=1.18.0 in /usr/local/lib/python3.10/dist-packages (from gym) (1.25.2)\n",
            "Requirement already satisfied: cloudpickle>=1.2.0 in /usr/local/lib/python3.10/dist-packages (from gym) (2.2.1)\n",
            "Requirement already satisfied: gym-notices>=0.0.4 in /usr/local/lib/python3.10/dist-packages (from gym) (0.0.8)\n"
          ]
        }
      ]
    },
    {
      "cell_type": "code",
      "source": [
        "import gym\n",
        "import numpy as np"
      ],
      "metadata": {
        "id": "PS7rzbP2SHjl"
      },
      "execution_count": 2,
      "outputs": []
    },
    {
      "cell_type": "code",
      "source": [
        "def eps_greedy(Q, s, eps=0.1):\n",
        "    if np.random.uniform(0,1) < eps:\n",
        "        return np.random.randint(Q.shape[1])\n",
        "    else:\n",
        "        return greedy(Q, s)"
      ],
      "metadata": {
        "id": "1_sIvt53DxnR"
      },
      "execution_count": 3,
      "outputs": []
    },
    {
      "cell_type": "code",
      "source": [
        "def greedy (Q, s):\n",
        "    return np.argmax(Q[s])"
      ],
      "metadata": {
        "id": "pIQFvyi0E7_S"
      },
      "execution_count": 4,
      "outputs": []
    },
    {
      "cell_type": "code",
      "source": [
        "def run_episodes(env, Q, num_episodes=100, to_print=False):\n",
        "    tot_rew = []\n",
        "    state = env.reset()\n",
        "\n",
        "    for _ in range(num_episodes):\n",
        "        done = False\n",
        "        game_rew = 0\n",
        "\n",
        "        while not done:\n",
        "            next_state, rew, done, _ = env.step(greedy(Q, state))\n",
        "\n",
        "            state = next_state\n",
        "            game_rew += rew\n",
        "            if done:\n",
        "                state = env.reset()\n",
        "                tot_rew.append(game_rew)\n",
        "\n",
        "    if to_print:\n",
        "        print('Mean score: %.3f of %i games!' % (np.mean(tot_rew), num_episodes))\n",
        "    return np.mean(tot_rew)\n",
        ""
      ],
      "metadata": {
        "id": "bL7RND20F4cC"
      },
      "execution_count": 5,
      "outputs": []
    },
    {
      "cell_type": "code",
      "source": [
        "def Q_learning(env, lr=0.01, num_episodes=10000, eps=0.3, gamma=0.95, eps_decay=0.00005):\n",
        "    nA = env.action_space.n\n",
        "    nS = env.observation_space.n\n",
        "\n",
        "    Q = np.zeros((nS, nA))\n",
        "    games_reward = []\n",
        "    test_rewards = []\n",
        "\n",
        "    for ep in range(num_episodes):\n",
        "        state = env.reset()\n",
        "        tot_rew = 0\n",
        "\n",
        "        if eps > 0.01:\n",
        "            eps -= eps_decay\n",
        "\n",
        "        done = False\n",
        "        while not done:\n",
        "            action = eps_greedy(Q, state, eps)\n",
        "            next_state, rew, done, _ = env.step(action)\n",
        "\n",
        "            Q[state][action] = Q[state][action] + lr * (rew + gamma * np.max(Q[next_state]) - Q[state][action])\n",
        "\n",
        "            state = next_state\n",
        "            tot_rew += rew\n",
        "            if done:\n",
        "                games_reward.append(tot_rew)\n",
        "\n",
        "        if (ep % 300) == 0:\n",
        "            test_rew = run_episodes(env, Q, 1000)\n",
        "            print(\"Episode:{:5d} Eps:{:2.4f} Rew:{:2.4f}\".format(ep, eps, test_rew))\n",
        "            test_rewards.append(test_rew)\n",
        "\n",
        "    return Q"
      ],
      "metadata": {
        "id": "4vtstscgG_5i"
      },
      "execution_count": 6,
      "outputs": []
    },
    {
      "cell_type": "code",
      "source": [
        "if __name__ == '__main__':\n",
        "    env = gym.make('Taxi-v3')\n",
        "    print(\"Q-Learning\")\n",
        "    Q_learning = Q_learning(env, lr=1, num_episodes=5000, eps=0.4, gamma=0.95, eps_decay=0.001)"
      ],
      "metadata": {
        "colab": {
          "base_uri": "https://localhost:8080/"
        },
        "id": "n59XNCZFR9_a",
        "outputId": "ee854c04-13b3-464f-a04b-f248037501c7"
      },
      "execution_count": 7,
      "outputs": [
        {
          "output_type": "stream",
          "name": "stderr",
          "text": [
            "/usr/local/lib/python3.10/dist-packages/gym/core.py:317: DeprecationWarning: \u001b[33mWARN: Initializing wrapper in old step API which returns one bool instead of two. It is recommended to set `new_step_api=True` to use new step API. This will be the default behaviour in future.\u001b[0m\n",
            "  deprecation(\n",
            "/usr/local/lib/python3.10/dist-packages/gym/wrappers/step_api_compatibility.py:39: DeprecationWarning: \u001b[33mWARN: Initializing environment in old step API which returns one bool instead of two. It is recommended to set `new_step_api=True` to use new step API. This will be the default behaviour in future.\u001b[0m\n",
            "  deprecation(\n",
            "/usr/local/lib/python3.10/dist-packages/gym/utils/passive_env_checker.py:241: DeprecationWarning: `np.bool8` is a deprecated alias for `np.bool_`.  (Deprecated NumPy 1.24)\n",
            "  if not isinstance(terminated, (bool, np.bool8)):\n"
          ]
        },
        {
          "output_type": "stream",
          "name": "stdout",
          "text": [
            "Q-Learning\n",
            "Episode:    0 Eps:0.3990 Rew:-214.3460\n",
            "Episode:  300 Eps:0.0990 Rew:-59.3150\n",
            "Episode:  600 Eps:0.0100 Rew:-7.4080\n",
            "Episode:  900 Eps:0.0100 Rew:0.5770\n",
            "Episode: 1200 Eps:0.0100 Rew:6.8610\n",
            "Episode: 1500 Eps:0.0100 Rew:6.8520\n",
            "Episode: 1800 Eps:0.0100 Rew:7.8370\n",
            "Episode: 2100 Eps:0.0100 Rew:7.8900\n",
            "Episode: 2400 Eps:0.0100 Rew:7.9710\n",
            "Episode: 2700 Eps:0.0100 Rew:8.0000\n",
            "Episode: 3000 Eps:0.0100 Rew:7.9270\n",
            "Episode: 3300 Eps:0.0100 Rew:7.7800\n",
            "Episode: 3600 Eps:0.0100 Rew:7.8080\n",
            "Episode: 3900 Eps:0.0100 Rew:7.7180\n",
            "Episode: 4200 Eps:0.0100 Rew:7.8630\n",
            "Episode: 4500 Eps:0.0100 Rew:7.9510\n",
            "Episode: 4800 Eps:0.0100 Rew:7.7940\n"
          ]
        }
      ]
    }
  ]
}